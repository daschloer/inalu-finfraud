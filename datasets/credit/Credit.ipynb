{
 "cells": [
  {
   "cell_type": "code",
   "execution_count": 1,
   "metadata": {},
   "outputs": [],
   "source": [
    "# Imports\n",
    "import numpy as np\n",
    "import csv \n",
    "from random import seed\n",
    "from random import random\n",
    "from tqdm import tqdm"
   ]
  },
  {
   "cell_type": "code",
   "execution_count": 2,
   "metadata": {},
   "outputs": [],
   "source": [
    "# Configure some parameters\n",
    "num_data_points = 100000\n",
    "percentage_fraud = 0.01\n",
    "error_in_percentage = 0.05\n",
    "outputFile = \"credit2.csv\""
   ]
  },
  {
   "cell_type": "code",
   "execution_count": 3,
   "metadata": {},
   "outputs": [],
   "source": [
    "# Configure some ranges \n",
    "max_remaining_credit = 100000\n",
    "max_payment = 5000 \n",
    "max_interest_rate = 0.05\n",
    "seed(23)"
   ]
  },
  {
   "cell_type": "code",
   "execution_count": 4,
   "metadata": {},
   "outputs": [
    {
     "name": "stderr",
     "output_type": "stream",
     "text": [
      "100%|██████████| 100000/100000 [00:00<00:00, 100663.96it/s]\n"
     ]
    }
   ],
   "source": [
    "# Synthetic data set: repayment of a credit \n",
    "# attributes \n",
    "# recent_credit, interest_rate, payment, remaining_credit\n",
    "# equation: remaining_credit = recent_credit + recent_credit * interest_rate - payment \n",
    "# interest rate / 12 --> monthly rate \n",
    "\n",
    "# Open the output file \n",
    "\n",
    "with open(outputFile, 'w') as o_file:\n",
    "    writer = csv.writer(o_file)\n",
    "    writer.writerow([\"lastCred\", \"interest\", \"payment\",\"remCred\", \"isFraud\"])\n",
    "    # Create n data points \n",
    "    for i in tqdm(range(0,num_data_points)): \n",
    "        successful = False \n",
    "        while successful == False: \n",
    "            rc = round( random() * max_remaining_credit , 2)\n",
    "            ir = round( random() * max_interest_rate , 2)\n",
    "            p =  round( random() * max_payment ,2 )\n",
    "            \n",
    "            if (rc + rc*(ir/12.0) - p) > 0 and (rc*(ir/12.0) < p):\n",
    "                successful = True \n",
    "        \n",
    "        # Calc attributes \n",
    "        attr_recent_credit = rc\n",
    "        attr_interest_rate = ir \n",
    "        attr_payment = p \n",
    "        attr_remaining_credit = rc + rc*(ir/12.0) - p \n",
    "        \n",
    "        # Fraud? \n",
    "        attr_fraud = 0\n",
    "        if random() < percentage_fraud: \n",
    "            error = attr_payment * np.random.uniform(0.01, 0.1) #error_in_percentage\n",
    "            attr_remaining_credit = attr_remaining_credit + error \n",
    "            attr_fraud = 1 \n",
    "        \n",
    "        # Write \n",
    "        attr_remaining_credit =  round( attr_remaining_credit ,2 )\n",
    "        #print(attr_recent_credit,attr_interest_rate,attr_payment,attr_remaining_credit,attr_fraud)\n",
    "        writer.writerow([attr_recent_credit,attr_interest_rate,attr_payment,attr_remaining_credit,attr_fraud])\n",
    "        "
   ]
  },
  {
   "cell_type": "code",
   "execution_count": 5,
   "metadata": {},
   "outputs": [
    {
     "data": {
      "text/plain": [
       "0    98967\n",
       "1     1033\n",
       "Name: isFraud, dtype: int64"
      ]
     },
     "execution_count": 5,
     "metadata": {},
     "output_type": "execute_result"
    }
   ],
   "source": [
    "import pandas as pd\n",
    "\n",
    "df = pd.read_csv(\"output.csv\")\n",
    "\n",
    "df[\"isFraud\"].value_counts()\n"
   ]
  }
 ],
 "metadata": {
  "kernelspec": {
   "display_name": "Python 3",
   "language": "python",
   "name": "python3"
  },
  "language_info": {
   "codemirror_mode": {
    "name": "ipython",
    "version": 3
   },
   "file_extension": ".py",
   "mimetype": "text/x-python",
   "name": "python",
   "nbconvert_exporter": "python",
   "pygments_lexer": "ipython3",
   "version": "3.7.4"
  }
 },
 "nbformat": 4,
 "nbformat_minor": 2
}
